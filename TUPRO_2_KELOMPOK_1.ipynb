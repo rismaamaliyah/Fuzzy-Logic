{
  "nbformat": 4,
  "nbformat_minor": 0,
  "metadata": {
    "colab": {
      "name": "TUPRO 2 KELOMPOK 1.ipynb",
      "provenance": [],
      "collapsed_sections": []
    },
    "kernelspec": {
      "name": "python3",
      "display_name": "Python 3"
    },
    "language_info": {
      "name": "python"
    }
  },
  "cells": [
    {
      "cell_type": "markdown",
      "source": [
        "# ****Fuzzy Logic - Rekomendasi Bengkel****\n",
        "\n",
        "Kelompok 1 (IF-44-08):\n",
        "1. Anyelir Belia Azzahra (1301200048)\n",
        "2. Risma Amaliyah Mahmudah (1301204087)\n",
        "3. Muhammad Rafi Irfansyah (1301204500) "
      ],
      "metadata": {
        "id": "uGCOEHo4hEfq"
      }
    },
    {
      "cell_type": "code",
      "source": [
        "import numpy as np\n",
        "import pandas as pd\n",
        "import matplotlib.pyplot as plt"
      ],
      "metadata": {
        "id": "z9JdGLcLhTbZ"
      },
      "execution_count": null,
      "outputs": []
    },
    {
      "cell_type": "markdown",
      "source": [
        "# **Membaca data dari file**"
      ],
      "metadata": {
        "id": "2URzdYOGhbpO"
      }
    },
    {
      "cell_type": "code",
      "source": [
        "data = pd.read_excel(\"https://github.com/rismaamaliyah/Fuzzy-Logic/blob/main/bengkel.xlsx?raw=true\")\n",
        "data.sample(8)"
      ],
      "metadata": {
        "colab": {
          "base_uri": "https://localhost:8080/",
          "height": 300
        },
        "id": "RQeMlJjHhihN",
        "outputId": "4fc0c97c-37ff-4b47-ccf4-96613a636312"
      },
      "execution_count": null,
      "outputs": [
        {
          "output_type": "execute_result",
          "data": {
            "text/plain": [
              "    id  servis  harga\n",
              "33  34      93      4\n",
              "29  30       7      6\n",
              "70  71      39      3\n",
              "20  21      48      2\n",
              "46  47      21      3\n",
              "15  16      82      6\n",
              "35  36      32      6\n",
              "32  33      33      8"
            ],
            "text/html": [
              "\n",
              "  <div id=\"df-a982a5ca-58a0-48c8-adae-c4bff6b0e7d3\">\n",
              "    <div class=\"colab-df-container\">\n",
              "      <div>\n",
              "<style scoped>\n",
              "    .dataframe tbody tr th:only-of-type {\n",
              "        vertical-align: middle;\n",
              "    }\n",
              "\n",
              "    .dataframe tbody tr th {\n",
              "        vertical-align: top;\n",
              "    }\n",
              "\n",
              "    .dataframe thead th {\n",
              "        text-align: right;\n",
              "    }\n",
              "</style>\n",
              "<table border=\"1\" class=\"dataframe\">\n",
              "  <thead>\n",
              "    <tr style=\"text-align: right;\">\n",
              "      <th></th>\n",
              "      <th>id</th>\n",
              "      <th>servis</th>\n",
              "      <th>harga</th>\n",
              "    </tr>\n",
              "  </thead>\n",
              "  <tbody>\n",
              "    <tr>\n",
              "      <th>33</th>\n",
              "      <td>34</td>\n",
              "      <td>93</td>\n",
              "      <td>4</td>\n",
              "    </tr>\n",
              "    <tr>\n",
              "      <th>29</th>\n",
              "      <td>30</td>\n",
              "      <td>7</td>\n",
              "      <td>6</td>\n",
              "    </tr>\n",
              "    <tr>\n",
              "      <th>70</th>\n",
              "      <td>71</td>\n",
              "      <td>39</td>\n",
              "      <td>3</td>\n",
              "    </tr>\n",
              "    <tr>\n",
              "      <th>20</th>\n",
              "      <td>21</td>\n",
              "      <td>48</td>\n",
              "      <td>2</td>\n",
              "    </tr>\n",
              "    <tr>\n",
              "      <th>46</th>\n",
              "      <td>47</td>\n",
              "      <td>21</td>\n",
              "      <td>3</td>\n",
              "    </tr>\n",
              "    <tr>\n",
              "      <th>15</th>\n",
              "      <td>16</td>\n",
              "      <td>82</td>\n",
              "      <td>6</td>\n",
              "    </tr>\n",
              "    <tr>\n",
              "      <th>35</th>\n",
              "      <td>36</td>\n",
              "      <td>32</td>\n",
              "      <td>6</td>\n",
              "    </tr>\n",
              "    <tr>\n",
              "      <th>32</th>\n",
              "      <td>33</td>\n",
              "      <td>33</td>\n",
              "      <td>8</td>\n",
              "    </tr>\n",
              "  </tbody>\n",
              "</table>\n",
              "</div>\n",
              "      <button class=\"colab-df-convert\" onclick=\"convertToInteractive('df-a982a5ca-58a0-48c8-adae-c4bff6b0e7d3')\"\n",
              "              title=\"Convert this dataframe to an interactive table.\"\n",
              "              style=\"display:none;\">\n",
              "        \n",
              "  <svg xmlns=\"http://www.w3.org/2000/svg\" height=\"24px\"viewBox=\"0 0 24 24\"\n",
              "       width=\"24px\">\n",
              "    <path d=\"M0 0h24v24H0V0z\" fill=\"none\"/>\n",
              "    <path d=\"M18.56 5.44l.94 2.06.94-2.06 2.06-.94-2.06-.94-.94-2.06-.94 2.06-2.06.94zm-11 1L8.5 8.5l.94-2.06 2.06-.94-2.06-.94L8.5 2.5l-.94 2.06-2.06.94zm10 10l.94 2.06.94-2.06 2.06-.94-2.06-.94-.94-2.06-.94 2.06-2.06.94z\"/><path d=\"M17.41 7.96l-1.37-1.37c-.4-.4-.92-.59-1.43-.59-.52 0-1.04.2-1.43.59L10.3 9.45l-7.72 7.72c-.78.78-.78 2.05 0 2.83L4 21.41c.39.39.9.59 1.41.59.51 0 1.02-.2 1.41-.59l7.78-7.78 2.81-2.81c.8-.78.8-2.07 0-2.86zM5.41 20L4 18.59l7.72-7.72 1.47 1.35L5.41 20z\"/>\n",
              "  </svg>\n",
              "      </button>\n",
              "      \n",
              "  <style>\n",
              "    .colab-df-container {\n",
              "      display:flex;\n",
              "      flex-wrap:wrap;\n",
              "      gap: 12px;\n",
              "    }\n",
              "\n",
              "    .colab-df-convert {\n",
              "      background-color: #E8F0FE;\n",
              "      border: none;\n",
              "      border-radius: 50%;\n",
              "      cursor: pointer;\n",
              "      display: none;\n",
              "      fill: #1967D2;\n",
              "      height: 32px;\n",
              "      padding: 0 0 0 0;\n",
              "      width: 32px;\n",
              "    }\n",
              "\n",
              "    .colab-df-convert:hover {\n",
              "      background-color: #E2EBFA;\n",
              "      box-shadow: 0px 1px 2px rgba(60, 64, 67, 0.3), 0px 1px 3px 1px rgba(60, 64, 67, 0.15);\n",
              "      fill: #174EA6;\n",
              "    }\n",
              "\n",
              "    [theme=dark] .colab-df-convert {\n",
              "      background-color: #3B4455;\n",
              "      fill: #D2E3FC;\n",
              "    }\n",
              "\n",
              "    [theme=dark] .colab-df-convert:hover {\n",
              "      background-color: #434B5C;\n",
              "      box-shadow: 0px 1px 3px 1px rgba(0, 0, 0, 0.15);\n",
              "      filter: drop-shadow(0px 1px 2px rgba(0, 0, 0, 0.3));\n",
              "      fill: #FFFFFF;\n",
              "    }\n",
              "  </style>\n",
              "\n",
              "      <script>\n",
              "        const buttonEl =\n",
              "          document.querySelector('#df-a982a5ca-58a0-48c8-adae-c4bff6b0e7d3 button.colab-df-convert');\n",
              "        buttonEl.style.display =\n",
              "          google.colab.kernel.accessAllowed ? 'block' : 'none';\n",
              "\n",
              "        async function convertToInteractive(key) {\n",
              "          const element = document.querySelector('#df-a982a5ca-58a0-48c8-adae-c4bff6b0e7d3');\n",
              "          const dataTable =\n",
              "            await google.colab.kernel.invokeFunction('convertToInteractive',\n",
              "                                                     [key], {});\n",
              "          if (!dataTable) return;\n",
              "\n",
              "          const docLinkHtml = 'Like what you see? Visit the ' +\n",
              "            '<a target=\"_blank\" href=https://colab.research.google.com/notebooks/data_table.ipynb>data table notebook</a>'\n",
              "            + ' to learn more about interactive tables.';\n",
              "          element.innerHTML = '';\n",
              "          dataTable['output_type'] = 'display_data';\n",
              "          await google.colab.output.renderOutput(dataTable, element);\n",
              "          const docLink = document.createElement('div');\n",
              "          docLink.innerHTML = docLinkHtml;\n",
              "          element.appendChild(docLink);\n",
              "        }\n",
              "      </script>\n",
              "    </div>\n",
              "  </div>\n",
              "  "
            ]
          },
          "metadata": {},
          "execution_count": 43
        }
      ]
    },
    {
      "cell_type": "markdown",
      "source": [
        "# **Fuzzifikasi**"
      ],
      "metadata": {
        "id": "Byz8uLBVir-s"
      }
    },
    {
      "cell_type": "markdown",
      "source": [
        "**Fungsi keanggotaan harga:**\n",
        "\n",
        "\n",
        "*   Nilai harga ≤ 4 bernilai Sangat Murah\n",
        "*   Nilai 5 ≤ harga ≤ 7 bernilai Murah\n",
        "*   Nilai 8 ≤ harga ≤ 9 bernilai Mahal\n",
        "*   Nilai harga > 9 bernilai Sangat Mahal"
      ],
      "metadata": {
        "id": "gGIok1X7i9Mj"
      }
    },
    {
      "cell_type": "code",
      "source": [
        "def fuzzy_harga(x):\n",
        "    harga = {'Sangat Murah': 0, 'Murah': 0, 'Mahal': 0, 'Sangat Mahal': 0}\n",
        "\n",
        "    a, b, c, d, e, f = 4, 5, 7, 8, 9, 10\n",
        "\n",
        "    # Garis Datar\n",
        "    if x <= a:\n",
        "        harga['Sangat Murah'] = 1\n",
        "    if b <= x <= c:\n",
        "        harga['Murah'] = 1\n",
        "    if d <= x <= e:\n",
        "        harga['Mahal'] = 1\n",
        "    if x >= f:\n",
        "        harga['Sangat Mahal'] = 1\n",
        "    \n",
        "    # Garis Miring (Gradient)\n",
        "    if a < x <= b:\n",
        "        harga['Sangat Murah'] = -(x - b) / (b - a)\n",
        "    if a < x < b:\n",
        "        harga['Murah'] = (x - a) / (b - a)\n",
        "    if c < x <= d:\n",
        "        harga['Murah'] = -(x - d) / (d - c)\n",
        "    if c < x < d:\n",
        "        harga['Mahal'] = (x - c) / (d - c)\n",
        "    if e < x < f:\n",
        "        harga['Mahal'] = -(x - f) / (f - e)\n",
        "    if e < x <= f:\n",
        "        harga['Sangat Mahal'] = (x - e) / (f - e)\n",
        "        \n",
        "    return harga"
      ],
      "metadata": {
        "id": "9XEsN-FNkTB2"
      },
      "execution_count": null,
      "outputs": []
    },
    {
      "cell_type": "code",
      "source": [
        "plt.figure(figsize=(10, 3))\n",
        "plt.title(\"Fungsi Keanggotaan Kualitas Harga\")\n",
        "\n",
        "plt.plot(range(11), [fuzzy_harga(x)['Sangat Murah'] for x in range(11)], 'r')\n",
        "plt.plot(range(11), [fuzzy_harga(x)['Murah'] for x in range(11)], 'y')\n",
        "plt.plot(range(11), [fuzzy_harga(x)['Mahal'] for x in range(11)], 'g')\n",
        "plt.plot(range(11), [fuzzy_harga(x)['Sangat Mahal'] for x in range(11)], 'b')\n",
        "\n",
        "plt.plot(0, 0, 'r', linewidth=1.5, label='Sangat Murah')\n",
        "plt.plot(0, 0, 'y', linewidth=1.5, label='Murah')\n",
        "plt.plot(0, 0, 'g', linewidth=1.5, label='Mahal')\n",
        "plt.plot(0, 0, 'b', linewidth=1.5, label='Sangat Mahal')\n",
        "\n",
        "plt.xticks(list(range(11)))\n",
        "plt.xlabel(\"value / x\")\n",
        "plt.legend()\n",
        "plt.show()"
      ],
      "metadata": {
        "colab": {
          "base_uri": "https://localhost:8080/",
          "height": 241
        },
        "id": "T4F91R9Bkuq6",
        "outputId": "87125ec6-084e-4805-8844-5f59a4509093"
      },
      "execution_count": null,
      "outputs": [
        {
          "output_type": "display_data",
          "data": {
            "text/plain": [
              "<Figure size 720x216 with 1 Axes>"
            ],
            "image/png": "[encoded data removed]"
          },
          "metadata": {
            "needs_background": "light"
          }
        }
      ]
    },
    {
      "cell_type": "markdown",
      "source": [
        "**Fungsi keanggotaan servis:**\n",
        "\n",
        "\n",
        "*   Nilai servis ≤ 40 bernilai Sangat Kurang\n",
        "*   Nilai 50 ≤ servis ≤ 70 bernilai Kurang dengan nilai dari 41 - 79\n",
        "*   Nilai 80 ≤ servis ≤ 90 bernilai Baik dengan nilai dari 71 - 94\n",
        "*   Nilai servis ≥ 95 bernilai Sangat Baik"
      ],
      "metadata": {
        "id": "lZhH46n2lBmy"
      }
    },
    {
      "cell_type": "code",
      "source": [
        "def fuzzy_servis(x):\n",
        "    servis = {'Sangat Kurang': 0, 'Kurang': 0, 'Baik': 0, 'Sangat Baik': 0}\n",
        "\n",
        "    a, b, c, d, e, f = 40, 50, 70, 80, 90, 95\n",
        "    \n",
        "    # Garis Datar\n",
        "    if x <= a:\n",
        "        servis['Sangat Kurang'] = 1\n",
        "    if b <= x <= c:\n",
        "        servis['Kurang'] = 1\n",
        "    if d <= x <= e:\n",
        "        servis['Baik'] = 1\n",
        "    if x >= f:\n",
        "        servis['Sangat Baik'] = 1\n",
        "\n",
        "    # Garis Miring (Gradient)   \n",
        "    if a < x <= b:\n",
        "        servis['Sangat Kurang'] = -(x - b) / (b - a)\n",
        "    if a < x < b:\n",
        "        servis['Kurang'] = (x - a) / (b - a)\n",
        "    if c < x <= d:\n",
        "        servis['Kurang'] = -(x - d) / (d - c)\n",
        "    if c < x < d:\n",
        "        servis['Baik'] = (x - c) / (d - c)\n",
        "    if e < x < f:\n",
        "        servis['Baik'] = -(x - f) / (f - e)\n",
        "    if e < x <= f:\n",
        "        servis['Sangat Baik'] = (x - e) / (f - e)\n",
        "        \n",
        "    return servis"
      ],
      "metadata": {
        "id": "U0cV-QhFl2PQ"
      },
      "execution_count": null,
      "outputs": []
    },
    {
      "cell_type": "code",
      "source": [
        "plt.figure(figsize=(12, 3))\n",
        "plt.title(\"Fungsi Keanggotaan Kualitas Servis\")\n",
        "\n",
        "plt.plot(range(101), [fuzzy_servis(x)['Sangat Kurang'] for x in range(101)], 'y')\n",
        "plt.plot(range(101), [fuzzy_servis(x)['Kurang'] for x in range(101)], 'r')\n",
        "plt.plot(range(101), [fuzzy_servis(x)['Baik'] for x in range(101)], 'g')\n",
        "plt.plot(range(101), [fuzzy_servis(x)['Sangat Baik'] for x in range(101)], 'b')\n",
        "\n",
        "plt.plot(0, 0, 'y', linewidth=1.5, label='Sangat Kurang')\n",
        "plt.plot(0, 0, 'r', linewidth=1.5, label='Kurang')\n",
        "plt.plot(0, 0, 'g', linewidth=1.5, label='Baik')\n",
        "plt.plot(0, 0, 'b', linewidth=1.5, label='Sangat Baik')\n",
        "\n",
        "plt.xticks(np.arange(0, 105, 5.0))\n",
        "plt.xlabel(\"value / x\")\n",
        "plt.legend()\n",
        "plt.show()"
      ],
      "metadata": {
        "colab": {
          "base_uri": "https://localhost:8080/",
          "height": 241
        },
        "id": "oWI6afnol9if",
        "outputId": "020b8bb9-19c6-47aa-e7d4-cfa260e86a16"
      },
      "execution_count": null,
      "outputs": [
        {
          "output_type": "display_data",
          "data": {
            "text/plain": [
              "<Figure size 864x216 with 1 Axes>"
            ],
            "image/png": "[encoded data removed]"
          },
          "metadata": {
            "needs_background": "light"
          }
        }
      ]
    },
    {
      "cell_type": "markdown",
      "source": [
        "# ****Proses Fuzzifikasi****"
      ],
      "metadata": {
        "id": "MzyRXxCMmH7r"
      }
    },
    {
      "cell_type": "code",
      "source": [
        "fuzzify = []\n",
        "\n",
        "for servis, harga in zip(data['servis'], data['harga']):\n",
        "    fuzzy = {'Servis': 0, 'Harga': 0}\n",
        "\n",
        "    fuzzy['Servis'] = fuzzy_servis(servis)\n",
        "    fuzzy['Harga'] = fuzzy_harga(harga)\n",
        "\n",
        "    fuzzify.append(fuzzy)"
      ],
      "metadata": {
        "id": "MnQp6kiHmRuo"
      },
      "execution_count": null,
      "outputs": []
    },
    {
      "cell_type": "code",
      "source": [
        "print(\"Contoh Hasil Fuzzifikasi :\\n\")\n",
        "for i in range(0, 10, 2):\n",
        "    print(\"Servis  :\", fuzzify[i]['Servis'])\n",
        "    print(\"Harga   :\", fuzzify[i]['Harga'], end=\"\\n\\n\")\n"
      ],
      "metadata": {
        "colab": {
          "base_uri": "https://localhost:8080/"
        },
        "id": "rEIu3hAgmpNP",
        "outputId": "af15ec0c-c41e-4666-928d-7a2349db04ea"
      },
      "execution_count": null,
      "outputs": [
        {
          "output_type": "stream",
          "name": "stdout",
          "text": [
            "Contoh Hasil Fuzzifikasi :\n",
            "\n",
            "Servis  : {'Sangat Kurang': 0, 'Kurang': 1, 'Baik': 0, 'Sangat Baik': 0}\n",
            "Harga   : {'Sangat Murah': 0, 'Murah': 1, 'Mahal': 0, 'Sangat Mahal': 0}\n",
            "\n",
            "Servis  : {'Sangat Kurang': 0, 'Kurang': 0, 'Baik': 0, 'Sangat Baik': 1}\n",
            "Harga   : {'Sangat Murah': 1, 'Murah': 0, 'Mahal': 0, 'Sangat Mahal': 0}\n",
            "\n",
            "Servis  : {'Sangat Kurang': 1, 'Kurang': 0, 'Baik': 0, 'Sangat Baik': 0}\n",
            "Harga   : {'Sangat Murah': 1, 'Murah': 0, 'Mahal': 0, 'Sangat Mahal': 0}\n",
            "\n",
            "Servis  : {'Sangat Kurang': 0, 'Kurang': 1, 'Baik': 0, 'Sangat Baik': 0}\n",
            "Harga   : {'Sangat Murah': 0, 'Murah': 0.0, 'Mahal': 1, 'Sangat Mahal': 0}\n",
            "\n",
            "Servis  : {'Sangat Kurang': 0.5, 'Kurang': 0.5, 'Baik': 0, 'Sangat Baik': 0}\n",
            "Harga   : {'Sangat Murah': 1, 'Murah': 0, 'Mahal': 0, 'Sangat Mahal': 0}\n",
            "\n"
          ]
        }
      ]
    },
    {
      "cell_type": "markdown",
      "source": [
        "# ****Inferensi****"
      ],
      "metadata": {
        "id": "QsTHKHSKnhFU"
      }
    },
    {
      "cell_type": "markdown",
      "source": [
        "**Fuzzy Set Rules (Konjungsi)**\n",
        "\n",
        "![image.png](data:image/png;base64,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)\n",
        "\n"
      ],
      "metadata": {
        "id": "p24BySdWzikn"
      }
    },
    {
      "cell_type": "code",
      "source": [
        "# Untuk setiap rules merupakan Konjungsi.\n",
        "# Contoh: IF Harga = Tidak Enak (1) Λ Pelayanan = Sangat Kurang (1) THEN Status = Tidak Direkomendasikan (1)\n",
        "\n",
        "fuzzy_set_rules = {\n",
        "    ('Sangat Murah', 'Sangat Kurang') : 'Tidak Direkomendasikan',\n",
        "    ('Sangat Murah', 'Kurang') : 'Tidak Direkomendasikan',\n",
        "    ('Sangat Murah', 'Baik') : 'Tidak Direkomendasikan',\n",
        "    ('Sangat Murah', 'Sangat Baik') : 'Tidak Direkomendasikan',\n",
        "    ('Murah', 'Sangat Kurang') : 'Tidak Direkomendasikan',\n",
        "    ('Murah', 'Kurang') : 'Tidak Direkomendasikan',\n",
        "    ('Murah', 'Baik') : 'Direkomendasikan',\n",
        "    ('Murah', 'Sangat Baik') : 'Direkomendasikan',\n",
        "    ('Mahal', 'Sangat Kurang') : 'Tidak Direkomendasikan',\n",
        "    ('Mahal', 'Kurang') : 'Direkomendasikan',\n",
        "    ('Mahal', 'Baik') : 'Direkomendasikan',\n",
        "    ('Mahal', 'Sangat Baik') : 'Sangat Direkomendasikan',\n",
        "    ('Sangat Mahal', 'Sangat Kurang') : 'Tidak Direkomendasikan',\n",
        "    ('Sangat Mahal', 'Kurang') : 'Direkomendasikan',\n",
        "    ('Sangat Mahal', 'Baik') : 'Sangat Direkomendasikan',\n",
        "    ('Sangat Mahal', 'Sangat Baik') : 'Sangat Direkomendasikan',\n",
        "}"
      ],
      "metadata": {
        "id": "4XaMXUxwn8oE"
      },
      "execution_count": null,
      "outputs": []
    },
    {
      "cell_type": "code",
      "source": [
        "inference_result = []\n",
        "\n",
        "def inference(fuzzed):\n",
        "    result = {'Tidak Direkomendasikan': 0, \"Direkomendasikan\": 0, \"Sangat Direkomendasikan\": 0}\n",
        "\n",
        "    for Servis in fuzzed['Servis'].keys():\n",
        "        for Harga in fuzzed['Harga'].keys():\n",
        "            min_value = min(fuzzed['Harga'][Harga], fuzzed['Servis'][Servis])\n",
        "\n",
        "            # Proses Conjunction Sesuai Fuzzy Rules pada variabel fuzzy_set_rules\n",
        "            output = fuzzy_set_rules[(Harga, Servis)]\n",
        "\n",
        "            if min_value > result[output]:\n",
        "               result[output] = min_value\n",
        "\n",
        "    return result"
      ],
      "metadata": {
        "id": "YjW9Uz2ToNEb"
      },
      "execution_count": null,
      "outputs": []
    },
    {
      "cell_type": "code",
      "source": [
        "for fuzzed in fuzzify:\n",
        "    inference_result.append(inference(fuzzed))\n",
        "\n",
        "x = 0\n",
        "print(\"Contoh Hasil Inferensi :\\n\")\n",
        "for i in range(0,10):\n",
        "    print(inference_result[i])"
      ],
      "metadata": {
        "colab": {
          "base_uri": "https://localhost:8080/"
        },
        "id": "KLzDt8nnobyD",
        "outputId": "a8570aa5-6c2f-40ea-83e7-f53543c39caf"
      },
      "execution_count": null,
      "outputs": [
        {
          "output_type": "stream",
          "name": "stdout",
          "text": [
            "Contoh Hasil Inferensi :\n",
            "\n",
            "{'Tidak Direkomendasikan': 1, 'Direkomendasikan': 0, 'Sangat Direkomendasikan': 0}\n",
            "{'Tidak Direkomendasikan': 1, 'Direkomendasikan': 0, 'Sangat Direkomendasikan': 0}\n",
            "{'Tidak Direkomendasikan': 1, 'Direkomendasikan': 0, 'Sangat Direkomendasikan': 0}\n",
            "{'Tidak Direkomendasikan': 1, 'Direkomendasikan': 0, 'Sangat Direkomendasikan': 0}\n",
            "{'Tidak Direkomendasikan': 1, 'Direkomendasikan': 0, 'Sangat Direkomendasikan': 0}\n",
            "{'Tidak Direkomendasikan': 0, 'Direkomendasikan': 1.0, 'Sangat Direkomendasikan': 0}\n",
            "{'Tidak Direkomendasikan': 0, 'Direkomendasikan': 1, 'Sangat Direkomendasikan': 0}\n",
            "{'Tidak Direkomendasikan': 1.0, 'Direkomendasikan': 0, 'Sangat Direkomendasikan': 0}\n",
            "{'Tidak Direkomendasikan': 0.5, 'Direkomendasikan': 0, 'Sangat Direkomendasikan': 0}\n",
            "{'Tidak Direkomendasikan': 1, 'Direkomendasikan': 0, 'Sangat Direkomendasikan': 0}\n"
          ]
        }
      ]
    },
    {
      "cell_type": "markdown",
      "source": [
        "# ****Defuzzifikasi****"
      ],
      "metadata": {
        "id": "em4pZ67loh-e"
      }
    },
    {
      "cell_type": "code",
      "source": [
        "plt.figure(figsize=(8, 3))\n",
        "plt.title(\"Sugeno Model Singleton\")\n",
        "\n",
        "plt.plot([50, 50], [0, 1], label=\"Tidak Direkomendasikan\")\n",
        "plt.plot([75, 75], [0, 1], label=\"Direkomendasikan\")\n",
        "plt.plot([100, 100], [0, 1], label=\"Sangat Direkomendasikan\")\n",
        "plt.xticks(np.arange(0, 110, 10.0))\n",
        "plt.legend()\n",
        "plt.show()"
      ],
      "metadata": {
        "colab": {
          "base_uri": "https://localhost:8080/",
          "height": 227
        },
        "id": "GFEvzOYHon2F",
        "outputId": "51748396-2e37-4dba-9be8-6df4386acbd6"
      },
      "execution_count": null,
      "outputs": [
        {
          "output_type": "display_data",
          "data": {
            "text/plain": [
              "<Figure size 576x216 with 1 Axes>"
            ],
            "image/png": "[encoded data removed]"
          },
          "metadata": {
            "needs_background": "light"
          }
        }
      ]
    },
    {
      "cell_type": "code",
      "source": [
        "deffuzy = {'Tidak Direkomendasikan': 50, \"Direkomendasikan\": 75, \"Sangat Direkomendasikan\": 100}\n",
        "\n",
        "def defuzzification(inference, deffuzy):\n",
        "    numerator, denominator = 0, 0\n",
        "    \n",
        "    for output in deffuzy.keys():\n",
        "        numerator += inference[output] * deffuzy[output]\n",
        "        denominator += inference[output]\n",
        "        \n",
        "    return numerator/denominator\n",
        "\n",
        "final = []\n",
        "\n",
        "for inference in inference_result:\n",
        "    final.append(defuzzification(inference, deffuzy))"
      ],
      "metadata": {
        "id": "PuPo8XQPosC7"
      },
      "execution_count": null,
      "outputs": []
    },
    {
      "cell_type": "code",
      "source": [
        "print(\"Contoh Hasil Defuzifikasi:\\n\")\n",
        "for i in range(0, 10):\n",
        "    print(f'Data Ke-{i+1} = {final[i]}')"
      ],
      "metadata": {
        "colab": {
          "base_uri": "https://localhost:8080/"
        },
        "id": "pzUpmCOLoucR",
        "outputId": "76dcf95b-6d09-446d-8534-cb3a8ce91cab"
      },
      "execution_count": null,
      "outputs": [
        {
          "output_type": "stream",
          "name": "stdout",
          "text": [
            "Contoh Hasil Defuzifikasi:\n",
            "\n",
            "Data Ke-1 = 50.0\n",
            "Data Ke-2 = 50.0\n",
            "Data Ke-3 = 50.0\n",
            "Data Ke-4 = 50.0\n",
            "Data Ke-5 = 50.0\n",
            "Data Ke-6 = 75.0\n",
            "Data Ke-7 = 75.0\n",
            "Data Ke-8 = 50.0\n",
            "Data Ke-9 = 50.0\n",
            "Data Ke-10 = 50.0\n"
          ]
        }
      ]
    },
    {
      "cell_type": "markdown",
      "source": [
        "# ****Hasil****"
      ],
      "metadata": {
        "id": "60kADet1o0BX"
      }
    },
    {
      "cell_type": "code",
      "source": [
        "data['result'] = final\n",
        "data = data.sort_values(by='result', ascending=False)[:10]\n",
        "\n",
        "data['id'].to_excel('peringkat.xls', index=False, header=False)  \n",
        "data"
      ],
      "metadata": {
        "colab": {
          "base_uri": "https://localhost:8080/",
          "height": 418
        },
        "id": "O0ac2hB0o4e2",
        "outputId": "3b3d9f6d-c6c8-4434-f3f0-4032d0d992b6"
      },
      "execution_count": null,
      "outputs": [
        {
          "output_type": "stream",
          "name": "stderr",
          "text": [
            "/usr/local/lib/python3.7/dist-packages/ipykernel_launcher.py:4: FutureWarning: As the xlwt package is no longer maintained, the xlwt engine will be removed in a future version of pandas. This is the only engine in pandas that supports writing in the xls format. Install openpyxl and write to an xlsx file instead. You can set the option io.excel.xls.writer to 'xlwt' to silence this warning. While this option is deprecated and will also raise a warning, it can be globally set and the warning suppressed.\n",
            "  after removing the cwd from sys.path.\n"
          ]
        },
        {
          "output_type": "execute_result",
          "data": {
            "text/plain": [
              "    id  servis  harga  result\n",
              "23  24     100      9   100.0\n",
              "41  42      94     10   100.0\n",
              "68  69      86     10   100.0\n",
              "30  31      74      9    75.0\n",
              "15  16      82      6    75.0\n",
              "82  83      69      8    75.0\n",
              "24  25      61     10    75.0\n",
              "69  70      78      8    75.0\n",
              "21  22      79      9    75.0\n",
              "94  95      63      8    75.0"
            ],
            "text/html": [
              "\n",
              "  <div id=\"df-2d486e94-9313-4c60-b58c-c260c88f632a\">\n",
              "    <div class=\"colab-df-container\">\n",
              "      <div>\n",
              "<style scoped>\n",
              "    .dataframe tbody tr th:only-of-type {\n",
              "        vertical-align: middle;\n",
              "    }\n",
              "\n",
              "    .dataframe tbody tr th {\n",
              "        vertical-align: top;\n",
              "    }\n",
              "\n",
              "    .dataframe thead th {\n",
              "        text-align: right;\n",
              "    }\n",
              "</style>\n",
              "<table border=\"1\" class=\"dataframe\">\n",
              "  <thead>\n",
              "    <tr style=\"text-align: right;\">\n",
              "      <th></th>\n",
              "      <th>id</th>\n",
              "      <th>servis</th>\n",
              "      <th>harga</th>\n",
              "      <th>result</th>\n",
              "    </tr>\n",
              "  </thead>\n",
              "  <tbody>\n",
              "    <tr>\n",
              "      <th>23</th>\n",
              "      <td>24</td>\n",
              "      <td>100</td>\n",
              "      <td>9</td>\n",
              "      <td>100.0</td>\n",
              "    </tr>\n",
              "    <tr>\n",
              "      <th>41</th>\n",
              "      <td>42</td>\n",
              "      <td>94</td>\n",
              "      <td>10</td>\n",
              "      <td>100.0</td>\n",
              "    </tr>\n",
              "    <tr>\n",
              "      <th>68</th>\n",
              "      <td>69</td>\n",
              "      <td>86</td>\n",
              "      <td>10</td>\n",
              "      <td>100.0</td>\n",
              "    </tr>\n",
              "    <tr>\n",
              "      <th>30</th>\n",
              "      <td>31</td>\n",
              "      <td>74</td>\n",
              "      <td>9</td>\n",
              "      <td>75.0</td>\n",
              "    </tr>\n",
              "    <tr>\n",
              "      <th>15</th>\n",
              "      <td>16</td>\n",
              "      <td>82</td>\n",
              "      <td>6</td>\n",
              "      <td>75.0</td>\n",
              "    </tr>\n",
              "    <tr>\n",
              "      <th>82</th>\n",
              "      <td>83</td>\n",
              "      <td>69</td>\n",
              "      <td>8</td>\n",
              "      <td>75.0</td>\n",
              "    </tr>\n",
              "    <tr>\n",
              "      <th>24</th>\n",
              "      <td>25</td>\n",
              "      <td>61</td>\n",
              "      <td>10</td>\n",
              "      <td>75.0</td>\n",
              "    </tr>\n",
              "    <tr>\n",
              "      <th>69</th>\n",
              "      <td>70</td>\n",
              "      <td>78</td>\n",
              "      <td>8</td>\n",
              "      <td>75.0</td>\n",
              "    </tr>\n",
              "    <tr>\n",
              "      <th>21</th>\n",
              "      <td>22</td>\n",
              "      <td>79</td>\n",
              "      <td>9</td>\n",
              "      <td>75.0</td>\n",
              "    </tr>\n",
              "    <tr>\n",
              "      <th>94</th>\n",
              "      <td>95</td>\n",
              "      <td>63</td>\n",
              "      <td>8</td>\n",
              "      <td>75.0</td>\n",
              "    </tr>\n",
              "  </tbody>\n",
              "</table>\n",
              "</div>\n",
              "      <button class=\"colab-df-convert\" onclick=\"convertToInteractive('df-2d486e94-9313-4c60-b58c-c260c88f632a')\"\n",
              "              title=\"Convert this dataframe to an interactive table.\"\n",
              "              style=\"display:none;\">\n",
              "        \n",
              "  <svg xmlns=\"http://www.w3.org/2000/svg\" height=\"24px\"viewBox=\"0 0 24 24\"\n",
              "       width=\"24px\">\n",
              "    <path d=\"M0 0h24v24H0V0z\" fill=\"none\"/>\n",
              "    <path d=\"M18.56 5.44l.94 2.06.94-2.06 2.06-.94-2.06-.94-.94-2.06-.94 2.06-2.06.94zm-11 1L8.5 8.5l.94-2.06 2.06-.94-2.06-.94L8.5 2.5l-.94 2.06-2.06.94zm10 10l.94 2.06.94-2.06 2.06-.94-2.06-.94-.94-2.06-.94 2.06-2.06.94z\"/><path d=\"M17.41 7.96l-1.37-1.37c-.4-.4-.92-.59-1.43-.59-.52 0-1.04.2-1.43.59L10.3 9.45l-7.72 7.72c-.78.78-.78 2.05 0 2.83L4 21.41c.39.39.9.59 1.41.59.51 0 1.02-.2 1.41-.59l7.78-7.78 2.81-2.81c.8-.78.8-2.07 0-2.86zM5.41 20L4 18.59l7.72-7.72 1.47 1.35L5.41 20z\"/>\n",
              "  </svg>\n",
              "      </button>\n",
              "      \n",
              "  <style>\n",
              "    .colab-df-container {\n",
              "      display:flex;\n",
              "      flex-wrap:wrap;\n",
              "      gap: 12px;\n",
              "    }\n",
              "\n",
              "    .colab-df-convert {\n",
              "      background-color: #E8F0FE;\n",
              "      border: none;\n",
              "      border-radius: 50%;\n",
              "      cursor: pointer;\n",
              "      display: none;\n",
              "      fill: #1967D2;\n",
              "      height: 32px;\n",
              "      padding: 0 0 0 0;\n",
              "      width: 32px;\n",
              "    }\n",
              "\n",
              "    .colab-df-convert:hover {\n",
              "      background-color: #E2EBFA;\n",
              "      box-shadow: 0px 1px 2px rgba(60, 64, 67, 0.3), 0px 1px 3px 1px rgba(60, 64, 67, 0.15);\n",
              "      fill: #174EA6;\n",
              "    }\n",
              "\n",
              "    [theme=dark] .colab-df-convert {\n",
              "      background-color: #3B4455;\n",
              "      fill: #D2E3FC;\n",
              "    }\n",
              "\n",
              "    [theme=dark] .colab-df-convert:hover {\n",
              "      background-color: #434B5C;\n",
              "      box-shadow: 0px 1px 3px 1px rgba(0, 0, 0, 0.15);\n",
              "      filter: drop-shadow(0px 1px 2px rgba(0, 0, 0, 0.3));\n",
              "      fill: #FFFFFF;\n",
              "    }\n",
              "  </style>\n",
              "\n",
              "      <script>\n",
              "        const buttonEl =\n",
              "          document.querySelector('#df-2d486e94-9313-4c60-b58c-c260c88f632a button.colab-df-convert');\n",
              "        buttonEl.style.display =\n",
              "          google.colab.kernel.accessAllowed ? 'block' : 'none';\n",
              "\n",
              "        async function convertToInteractive(key) {\n",
              "          const element = document.querySelector('#df-2d486e94-9313-4c60-b58c-c260c88f632a');\n",
              "          const dataTable =\n",
              "            await google.colab.kernel.invokeFunction('convertToInteractive',\n",
              "                                                     [key], {});\n",
              "          if (!dataTable) return;\n",
              "\n",
              "          const docLinkHtml = 'Like what you see? Visit the ' +\n",
              "            '<a target=\"_blank\" href=https://colab.research.google.com/notebooks/data_table.ipynb>data table notebook</a>'\n",
              "            + ' to learn more about interactive tables.';\n",
              "          element.innerHTML = '';\n",
              "          dataTable['output_type'] = 'display_data';\n",
              "          await google.colab.output.renderOutput(dataTable, element);\n",
              "          const docLink = document.createElement('div');\n",
              "          docLink.innerHTML = docLinkHtml;\n",
              "          element.appendChild(docLink);\n",
              "        }\n",
              "      </script>\n",
              "    </div>\n",
              "  </div>\n",
              "  "
            ]
          },
          "metadata": {},
          "execution_count": 56
        }
      ]
    }
  ]
}